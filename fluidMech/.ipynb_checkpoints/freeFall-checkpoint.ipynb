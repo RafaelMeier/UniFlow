{
 "cells": [
  {
   "cell_type": "code",
   "execution_count": null,
   "metadata": {},
   "outputs": [],
   "source": [
    "#!/usr/bin/env python3\n",
    "import numpy as np\n",
    "import matplotlib.pyplot as plt\n",
    "import matplotlib.font_manager"
   ]
  },
  {
   "cell_type": "markdown",
   "metadata": {},
   "source": [
    "\n",
    "<br>\n",
    "Problem description:<br>\n",
    "The air resistance (drag force) on a ball of mass m in free flight is <br>\n",
    "given by  a model as F_d = constant*V**2, where the constant represents <br>\n",
    "the drag coefficient and V is the velocity in meters per second.<br>\n",
    "If the ball is dropped from rest position (here in the first case, h= 500 m) <br>\n",
    "above the ground,  compute the speed at which it hits the ground. <br>\n"
   ]
  },
  {
   "cell_type": "code",
   "execution_count": null,
   "metadata": {},
   "outputs": [],
   "source": [
    "class FreeFaller:\n",
    "    def __init__(self,m=0.2,Cd=2e-4,deltaY=500):\n",
    "        self.m = m\n",
    "        self.Cd = Cd\n",
    "        self.g = 9.81\n",
    "        self.deltaY = deltaY\n",
    "                   \n",
    "    def velocity(self):\n",
    "        A = self.m*self.g/self.Cd\n",
    "        B = 2*self.Cd/self.m\n",
    "        \n",
    "        return np.sqrt(A*(1-np.exp(-B*self.deltaY)))\n",
    "    def acceleration(self):\n",
    "        with np.errstate(divide='ignore', invalid='ignore'):\n",
    "            self.time = self.deltaY/self.velocity()\n",
    "        \n",
    "        return np.gradient(self.velocity(), self.time)"
   ]
  },
  {
   "cell_type": "code",
   "execution_count": null,
   "metadata": {},
   "outputs": [],
   "source": [
    "def main():\n",
    "    \n",
    "  # Create a particle called prt_0 to solve the problem setup.    \n",
    "  prt_0 = FreeFaller()    "
   ]
  },
  {
   "cell_type": "code",
   "execution_count": null,
   "metadata": {},
   "outputs": [],
   "source": [
    "  print('According to the  problem, for a specific high value')\n",
    "  print('Velocity: {:0.2f} m/s\\n'.format(prt_0.velocity()))"
   ]
  },
  {
   "cell_type": "code",
   "execution_count": null,
   "metadata": {},
   "outputs": [],
   "source": [
    "  # Max altitude to lauch a particle\n",
    "  max_H = 3500\n",
    "  deltaY_ = np.linspace(0,max_H,1000)"
   ]
  },
  {
   "cell_type": "code",
   "execution_count": null,
   "metadata": {},
   "outputs": [],
   "source": [
    "  # Definition of three different particle with different drag coeff.\n",
    "  Cds = [0.5e-4,2.0e-4,4.0e-4]"
   ]
  },
  {
   "cell_type": "code",
   "execution_count": null,
   "metadata": {},
   "outputs": [],
   "source": [
    "  # Mechanism for objects creation \n",
    "  list_of_freeFallers = []\n",
    "  for Cd in Cds:\n",
    "      list_of_freeFallers.append(FreeFaller(Cd=Cd,deltaY=deltaY_))"
   ]
  },
  {
   "cell_type": "markdown",
   "metadata": {},
   "source": [
    "  \n",
    " <br>\n",
    "  # Mechanism for objects creation<br>\n",
    "  # This is equal what happen in the above lines <br>\n",
    "  Cds = [ FreeFaller(Cd=0.5e-4,deltaY=deltaY_),<br>\n",
    "        FreeFaller(Cd=2.0e-4,deltaY=deltaY_),<br>\n",
    "        FreeFaller(Cd=4.0e-4,deltaY=deltaY_)]'<br>\n",
    "\n",
    "       "
   ]
  },
  {
   "cell_type": "code",
   "execution_count": null,
   "metadata": {},
   "outputs": [],
   "source": [
    "  velocity_curves = list(map(FreeFaller.velocity,list_of_freeFallers))\n",
    "  acceleration_curves = list(map(FreeFaller.acceleration,list_of_freeFallers))"
   ]
  },
  {
   "cell_type": "code",
   "execution_count": null,
   "metadata": {},
   "outputs": [],
   "source": [
    "  #--------------------------------------------------\n",
    "  # PLOTS"
   ]
  },
  {
   "cell_type": "code",
   "execution_count": null,
   "metadata": {},
   "outputs": [],
   "source": [
    "  # Define fonts\n",
    "  font = {'family': 'serif'}"
   ]
  },
  {
   "cell_type": "code",
   "execution_count": null,
   "metadata": {},
   "outputs": [],
   "source": [
    "  fontLegend = {'family': 'serif',\n",
    "        'weight': 'normal',\n",
    "        'size': 14,\n",
    "        }"
   ]
  },
  {
   "cell_type": "code",
   "execution_count": null,
   "metadata": {},
   "outputs": [],
   "source": [
    "  fontLegend2 = {'family': 'serif',\n",
    "        'weight': 'normal',\n",
    "        'size': 13,\n",
    "        }"
   ]
  },
  {
   "cell_type": "code",
   "execution_count": null,
   "metadata": {},
   "outputs": [],
   "source": [
    "  fontLegend3 = {'family': 'serif',\n",
    "        'weight': 'normal',\n",
    "        'size': 11,\n",
    "        }\n",
    "  #----------------------------------------------------------------------\n",
    "  # Define fonts of plots [Math symbols and expressions]\n",
    "  fonts1 = [\"serif\"]\n",
    "  fonts2 = [\"stix\",\"stixsans\",\"cm\"]"
   ]
  },
  {
   "cell_type": "code",
   "execution_count": null,
   "metadata": {},
   "outputs": [],
   "source": [
    "  for font1,font2 in zip(fonts1,fonts2):\n",
    "      plt.rcParams[\"font.family\"] = font1\n",
    "      plt.rcParams[\"mathtext.fontset\"] = font2\n",
    "      plt.rcParams[\"font.size\"] = 14\n",
    "  #-----------------------------------------------"
   ]
  },
  {
   "cell_type": "code",
   "execution_count": null,
   "metadata": {},
   "outputs": [],
   "source": [
    "  "
   ]
  },
  {
   "cell_type": "code",
   "execution_count": null,
   "metadata": {},
   "outputs": [],
   "source": [
    "  colors = ['black','red','green']\n",
    "  l_styles = ['-','--','-.']"
   ]
  },
  {
   "cell_type": "code",
   "execution_count": null,
   "metadata": {},
   "outputs": [],
   "source": [
    "  for v_curves, a_curves,color, l_style, cd in zip(velocity_curves,acceleration_curves,colors,l_styles,Cds):\n",
    "      fig = plt.figure(2,figsize=(6,5),facecolor='w')\n",
    "      plt.plot(deltaY_-max_H,a_curves ,color = color, \\\n",
    "               linestyle=l_style,lw =2,label = 'Cd = ' + str(cd))\n",
    "      plt.ylabel(r'$\\rm a\\ [\\ \\rm m/s^2\\ ]$',fontsize=20, fontdict=font)\n",
    "      plt.xlabel('$\\\\rm hight\\ [\\ m\\ ] $',fontsize=20, fontdict=font)\n",
    "      plt.grid(color='gray', linestyle='--',lw=.5)\n",
    "      plt.tight_layout()\n",
    "      fig = plt.figure(1,figsize=(6,5),facecolor='w')\n",
    "      plt.plot(deltaY_-max_H,v_curves ,color = color, \\\n",
    "               linestyle=l_style,lw =2,label = 'Cd = ' + str(cd))\n",
    "      plt.ylabel(r'$\\rm V\\ [\\ \\rm m/s\\ ]$',fontsize=20, fontdict=font)\n",
    "      plt.xlabel('$\\\\rm hight\\ [\\ m\\ ] $',fontsize=20, fontdict=font)\n",
    "      plt.grid(color='gray', linestyle='--',lw=.5)\n",
    "      plt.tight_layout()\n",
    "    \n",
    "  leg = plt.legend(loc='upper left',framealpha = 1,edgecolor='k',prop=fontLegend2)        \n",
    "  plt.show()"
   ]
  },
  {
   "cell_type": "code",
   "execution_count": null,
   "metadata": {},
   "outputs": [],
   "source": [
    "if __name__=='__main__':\n",
    "  print('\\n  ***  Free Faller ***\\n')\n",
    "  main()"
   ]
  }
 ],
 "metadata": {
  "kernelspec": {
   "display_name": "Python 3",
   "language": "python",
   "name": "python3"
  },
  "language_info": {
   "codemirror_mode": {
    "name": "ipython",
    "version": 3
   },
   "file_extension": ".py",
   "mimetype": "text/x-python",
   "name": "python",
   "nbconvert_exporter": "python",
   "pygments_lexer": "ipython3",
   "version": "3.6.9"
  }
 },
 "nbformat": 4,
 "nbformat_minor": 2
}
